{
 "cells": [
  {
   "cell_type": "code",
   "execution_count": 58,
   "id": "d2021864",
   "metadata": {},
   "outputs": [],
   "source": [
    "import nltk"
   ]
  },
  {
   "cell_type": "code",
   "execution_count": 94,
   "id": "bf749b45",
   "metadata": {},
   "outputs": [
    {
     "name": "stdout",
     "output_type": "stream",
     "text": [
      "<class 'nltk.corpus.reader.plaintext.PlaintextCorpusReader'>\n"
     ]
    }
   ],
   "source": [
    "corpus = nltk.corpus.gutenberg\n",
    "print(type(corpus))"
   ]
  },
  {
   "cell_type": "code",
   "execution_count": 60,
   "id": "bd362e31",
   "metadata": {},
   "outputs": [
    {
     "name": "stdout",
     "output_type": "stream",
     "text": [
      "['austen-emma.txt', 'austen-persuasion.txt', 'austen-sense.txt', 'bible-kjv.txt', 'blake-poems.txt', 'bryant-stories.txt', 'burgess-busterbrown.txt', 'carroll-alice.txt', 'chesterton-ball.txt', 'chesterton-brown.txt', 'chesterton-thursday.txt', 'edgeworth-parents.txt', 'melville-moby_dick.txt', 'milton-paradise.txt', 'shakespeare-caesar.txt', 'shakespeare-hamlet.txt', 'shakespeare-macbeth.txt', 'whitman-leaves.txt']\n"
     ]
    }
   ],
   "source": [
    "print(corpus.fileids())"
   ]
  },
  {
   "cell_type": "code",
   "execution_count": 61,
   "id": "7dc55eb6",
   "metadata": {},
   "outputs": [],
   "source": [
    "chesterton = corpus.sents(\"chesterton-brown.txt\")"
   ]
  },
  {
   "cell_type": "code",
   "execution_count": 62,
   "id": "d34a703f",
   "metadata": {},
   "outputs": [],
   "source": [
    "stopwords = nltk.corpus.stopwords.words('english')"
   ]
  },
  {
   "cell_type": "code",
   "execution_count": 66,
   "id": "1188db66",
   "metadata": {},
   "outputs": [],
   "source": [
    "chesterton_words = corpus.words(\"chesterton-brown.txt\")"
   ]
  },
  {
   "cell_type": "code",
   "execution_count": 71,
   "id": "c108d39b",
   "metadata": {},
   "outputs": [
    {
     "name": "stdout",
     "output_type": "stream",
     "text": [
      "\n",
      "    86063 words in the novel.\n",
      "    8299 unique words in the novel.\n",
      "    3806 sentences in the novel.\n",
      "    22.61 average sentence length.\n",
      "    3.79 average word length.\n",
      "\n"
     ]
    }
   ],
   "source": [
    "# let's explore the contents of the novel:\n",
    "print(f\"\"\"\n",
    "    {len(chesterton_words)} words in the novel.\n",
    "    {len(set(chesterton_words))} unique words in the novel.\n",
    "    {len(chesterton)} sentences in the novel.\n",
    "    {round(len(chesterton_words) / len(chesterton), 2)} average sentence length.\n",
    "    {round(sum([len(w) for w in chesterton_words]) / len(chesterton_words), 2)} average word length.\n",
    "\"\"\")"
   ]
  },
  {
   "cell_type": "code",
   "execution_count": 73,
   "id": "6fa6677d",
   "metadata": {},
   "outputs": [
    {
     "data": {
      "image/png": "[encoded data removed]",
      "text/plain": [
       "<Figure size 600x500 with 1 Axes>"
      ]
     },
     "metadata": {},
     "output_type": "display_data"
    }
   ],
   "source": [
    "# now let's look at some more useful features:\n",
    "# such as word frequency, collocations, concordance\n",
    "import matplotlib.pyplot as plt\n",
    "\n",
    "def plot_top_n(words, N=20):\n",
    "    word_freq = nltk.FreqDist(words)\n",
    "    top_n = word_freq.most_common(N)\n",
    "    fig, ax = plt.subplots(figsize=(6, N/4))\n",
    "\n",
    "    fig.suptitle(f\"Top {N} most frequent words in Chesterton\")\n",
    "    words, values = zip(*top_n)\n",
    "    ax.barh(words, values)\n",
    "    ax.set_xlabel(\"Frequency\")\n",
    "    ax.set_ylabel(\"Word\")\n",
    "    ax.tick_params(axis=\"both\", labelsize=9)\n",
    "    plt.show()\n",
    "\n",
    "plot_top_n(chesterton_words)"
   ]
  },
  {
   "cell_type": "code",
   "execution_count": 93,
   "id": "9d59d54b",
   "metadata": {},
   "outputs": [
    {
     "ename": "SyntaxError",
     "evalue": "incomplete input (2047470486.py, line 7)",
     "output_type": "error",
     "traceback": [
      "\u001b[1;36m  Cell \u001b[1;32mIn[93], line 7\u001b[1;36m\u001b[0m\n\u001b[1;33m    print(nltk.word_tokenize(nltk.corpus.gutenberg(\"chesterton-brown.txt\"))\u001b[0m\n\u001b[1;37m                                                                           ^\u001b[0m\n\u001b[1;31mSyntaxError\u001b[0m\u001b[1;31m:\u001b[0m incomplete input\n"
     ]
    }
   ],
   "source": [
    "filtered = []\n",
    "for s in chesterton:\n",
    "    for w in s:\n",
    "        if(w.isalpha() and s not in stopwords):\n",
    "            filtered.append(w.lower())\n",
    "print(filtered[0:20])\n",
    "print(nltk.word_tokenize(nltk.corpus)\n"
   ]
  },
  {
   "cell_type": "code",
   "execution_count": null,
   "id": "31264f67",
   "metadata": {},
   "outputs": [],
   "source": []
  }
 ],
 "metadata": {
  "kernelspec": {
   "display_name": "Python 3 (ipykernel)",
   "language": "python",
   "name": "python3"
  },
  "language_info": {
   "codemirror_mode": {
    "name": "ipython",
    "version": 3
   },
   "file_extension": ".py",
   "mimetype": "text/x-python",
   "name": "python",
   "nbconvert_exporter": "python",
   "pygments_lexer": "ipython3",
   "version": "3.10.9"
  },
  "vscode": {
   "interpreter": {
    "hash": "e0ba2138ccdeef291c4f3939fc0ec3da14a9e1624c959932cf0ad354e60d5648"
   }
  }
 },
 "nbformat": 4,
 "nbformat_minor": 5
}
